{
 "cells": [
  {
   "cell_type": "code",
   "execution_count": 21,
   "id": "a740808a",
   "metadata": {},
   "outputs": [
    {
     "name": "stdout",
     "output_type": "stream",
     "text": [
      "Enter size:4\n",
      "Enter Element 0:9\n",
      "Enter Element 1:67\n",
      "Enter Element 2:34\n",
      "Enter Element 3:62\n"
     ]
    }
   ],
   "source": [
    "size=int(input(\"Enter size:\"))\n",
    "arr=[]\n",
    "for i in range(size):\n",
    "    array=int(input(\"Enter Element \"+str(i)+\":\"))\n",
    "    arr.append(array)"
   ]
  },
  {
   "cell_type": "code",
   "execution_count": 23,
   "id": "86c39f73",
   "metadata": {},
   "outputs": [
    {
     "name": "stdout",
     "output_type": "stream",
     "text": [
      "[9, 34, 62, 67]\n"
     ]
    }
   ],
   "source": [
    "def quicksort(arr,low, high):\n",
    "    if(low<high):\n",
    "        pi=partition(arr,low,high)\n",
    "        quicksort(arr, low, pi - 1)\n",
    "        quicksort(arr, pi + 1, high)    \n",
    "def partition(arr,low,high):\n",
    "    pivot = arr[high]\n",
    "    i = (low - 1) \n",
    "    for j in range(low,high):\n",
    "        if (arr[j] < pivot):\n",
    "            i=i+1\n",
    "            arr[i],arr[j]=arr[j],arr[i]\n",
    "    arr[i+1],arr[high]=arr[high],arr[i+1]\n",
    "    return i+1\n",
    "\n",
    "\n",
    "quicksort(arr,0,size-1)\n",
    "print(arr)"
   ]
  }
 ],
 "metadata": {
  "kernelspec": {
   "display_name": "Python 3",
   "language": "python",
   "name": "python3"
  },
  "language_info": {
   "codemirror_mode": {
    "name": "ipython",
    "version": 3
   },
   "file_extension": ".py",
   "mimetype": "text/x-python",
   "name": "python",
   "nbconvert_exporter": "python",
   "pygments_lexer": "ipython3",
   "version": "3.8.8"
  }
 },
 "nbformat": 4,
 "nbformat_minor": 5
}
